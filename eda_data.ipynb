{
 "cells": [
  {
   "cell_type": "code",
   "execution_count": 53,
   "metadata": {},
   "outputs": [],
   "source": [
    "import pandas as pd\n",
    "import numpy as np\n",
    "import sys"
   ]
  },
  {
   "cell_type": "code",
   "execution_count": 10,
   "metadata": {},
   "outputs": [],
   "source": [
    "with open(\"data/wiki/parsed.xml\") as f:\n",
    "    all_data = f.readlines()"
   ]
  },
  {
   "cell_type": "code",
   "execution_count": 11,
   "metadata": {},
   "outputs": [
    {
     "data": {
      "text/plain": [
       "1026423"
      ]
     },
     "execution_count": 11,
     "metadata": {},
     "output_type": "execute_result"
    }
   ],
   "source": [
    "len(all_data)"
   ]
  },
  {
   "cell_type": "code",
   "execution_count": 44,
   "metadata": {},
   "outputs": [
    {
     "data": {
      "text/plain": [
       "[' \\n',\n",
       " 'Citations \\n',\n",
       " ' \\n',\n",
       " 'General and cited sources \\n',\n",
       " '\\n',\n",
       " '\\n',\n",
       " 'Primary sources \\n',\n",
       " ' \\n',\n",
       " 'Secondary sources \\n',\n",
       " ' \\n',\n",
       " 'Tertiary sources \\n',\n",
       " ' \\n',\n",
       " 'Further reading \\n',\n",
       " ' Criticism of philosophical anarchism. A defence of philosophical anarchism, stating that \"both kinds of \\'anarchism\\' [i.e. philosophical and political anarchism] are philosophical and political claims.\" (p.137) Anarchistic popular fiction novel. An argument for philosophical anarchism. \\n',\n",
       " 'External links \\n',\n",
       " ' Anarchy Archives. Anarchy Archives is an online research center on the history and theory of anarchism. \\n',\n",
       " '\\n',\n",
       " '==========\\n',\n",
       " '\\n',\n",
       " \"</text></article><article><id>39</id><title>Albedo</title><text> Albedo (; ) is the measure of the diffuse reflection of solar radiation out of the total solar radiation and measured on a scale from 0, corresponding to a black body that absorbs all incident radiation, to 1, corresponding to a body that reflects all incident radiation. Surface albedo is defined as the ratio of radiosity J to the irradiance E (flux per unit area) received by a surface. The proportion reflected is not only determined by properties of the surface itself, but also by the spectral and angular distribution of solar radiation reaching the Earth's surface. These factors vary with atmospheric composition, geographic location, and time (see position of the Sun). While bi-hemispherical reflectance is calculated for a single angle of incidence (i.e., for a given position of the Sun), albedo is the directional integration of reflectance over all solar angles in a given period. The temporal resolution may range from seconds (as obtained from flux measurements) to daily, monthly, or annual averages. Unless given for a specific wavelength (spectral albedo), albedo refers to the entire spectrum of solar radiation. Due to measurement constraints, it is often given for the spectrum in which most solar energy reaches the surface (between 0.3 and 3 μm). This spectrum includes visible light (0.4–0.7 μm), which explains why surfaces with a low albedo appear dark (e.g., trees absorb most radiation), whereas surfaces with a high albedo appear bright (e.g., snow reflects most radiation). Albedo is an important concept in climatology, astronomy, and environmental management (e.g., as part of the Leadership in Energy and Environmental Design (LEED) program for sustainable rating of buildings). The average albedo of the Earth from the upper atmosphere, its planetary albedo, is 30–35% because of cloud cover, but widely varies locally across the surface because of different geological and environmental features. The term albedo was introduced into optics by Johann Heinrich Lambert in his 1760 work Photometria. \\n\",\n",
       " 'Terrestrial albedo\\n',\n",
       " \" Any albedo in visible light falls within a range of about 0.9 for fresh snow to about 0.04 for charcoal, one of the darkest substances. Deeply shadowed cavities can achieve an effective albedo approaching the zero of a black body. When seen from a distance, the ocean surface has a low albedo, as do most forests, whereas desert areas have some of the highest albedos among landforms. Most land areas are in an albedo range of 0.1 to 0.4. The average albedo of Earth is about 0.3. This is far higher than for the ocean primarily because of the contribution of clouds. Earth's surface albedo is regularly estimated via Earth observation satellite sensors such as NASA's MODIS instruments on board the Terra and Aqua satellites, and the CERES instrument on the Suomi NPP and JPSS. As the amount of reflected radiation is only measured for a single direction by satellite, not all directions, a mathematical model is used to translate a sample set of satellite reflectance measurements into estimates of directional-hemispherical reflectance and bi-hemispherical reflectance (e.g.,). These calculations are based on the bidirectional reflectance distribution function (BRDF), which describes how the reflectance of a given surface depends on the view angle of the observer and the solar angle. BDRF can facilitate translations of observations of reflectance into albedo. Earth's average surface temperature due to its albedo and the greenhouse effect is currently about . If Earth were frozen entirely (and hence be more reflective), the average temperature of the planet would drop below . If only the continental land masses became covered by glaciers, the mean temperature of the planet would drop to about . In contrast, if the entire Earth was covered by water – a so-called ocean planet – the average temperature on the planet would rise to almost . In 2021, scientists reported that Earth dimmed by ~0.5% over two decades (1998–2017) as measured by earthshine using modern photometric techniques. This may have both been co-caused by climate change as well as a substantial increase in global warming. However, the link to climate change has not been explored to date and it is unclear whether or not this represents an ongoing trend. \\n\",\n",
       " 'White-sky, black-sky, and blue-sky albedo\\n',\n",
       " '\\n',\n",
       " 'For land surfaces, it has been shown that the albedo at a particular solar zenith angle θ can be approximated by the proportionate sum of two terms: the directional-hemispherical reflectance at that solar zenith angle, , sometimes referred to as black-sky albedo, and the bi-hemispherical reflectance, , sometimes referred to as white-sky albedo.\\n',\n",
       " 'with being the proportion of direct radiation from a given solar angle, and being the proportion of diffuse illumination, the actual albedo (also called blue-sky albedo) can then be given as: This formula is important because it allows the albedo to be calculated for any given illumination conditions from a knowledge of the intrinsic properties of the surface. \\n',\n",
       " 'Examples of terrestrial albedo effects\\n',\n",
       " ' \\n',\n",
       " 'Illumination\\n',\n",
       " '\\n',\n",
       " \"Albedo is not directly dependent on illumination because changing the amount of incoming light proportionally changes the amount of reflected light, except in circumstances where a change in illumination induces a change in the Earth's surface at that location (e.g. through melting of reflective ice). That said, albedo and illumination both vary by latitude. Albedo is highest near the poles and lowest in the subtropics, with a local maximum in the tropics. \\n\",\n",
       " 'Insolation effects\\n',\n",
       " '\\n',\n",
       " 'The intensity of albedo temperature effects depends on the amount of albedo and the level of local insolation (solar irradiance); high albedo areas in the Arctic and Antarctic regions are cold due to low insolation, whereas areas such as the Sahara Desert, which also have a relatively high albedo, will be hotter due to high insolation. Tropical and sub-tropical rainforest areas have low albedo, and are much hotter than their temperate forest counterparts, which have lower insolation. Because insolation plays such a big role in the heating and cooling effects of albedo, high insolation areas like the tropics will tend to show a more pronounced fluctuation in local temperature when local albedo changes. Arctic regions notably release more heat back into space than what they absorb, effectively cooling the Earth. This has been a concern since arctic ice and snow has been melting at higher rates due to higher temperatures, creating regions in the arctic that are notably darker (being water or ground which is darker color) and reflects less heat back into space. This feedback loop results in a reduced albedo effect. \\n',\n",
       " 'Climate and weather\\n',\n",
       " '\\n',\n",
       " 'Albedo affects climate by determining how much radiation a planet absorbs. The uneven heating of Earth from albedo variations between land, ice, or ocean surfaces can drive weather. \\n',\n",
       " 'Albedo–temperature feedback\\n',\n",
       " '\\n',\n",
       " \"When an area's albedo changes due to snowfall, a snow–temperature feedback results. A layer of snowfall increases local albedo, reflecting away sunlight, leading to local cooling. In principle, if no outside temperature change affects this area (e.g., a warm air mass), the raised albedo and lower temperature would maintain the current snow and invite further snowfall, deepening the snow–temperature feedback. However, because local weather is dynamic due to the change of seasons, eventually warm air masses and a more direct angle of sunlight (higher insolation) cause melting. When the melted area reveals surfaces with lower albedo, such as grass, soil, or ocean, the effect is reversed: the darkening surface lowers albedo, increasing local temperatures, which induces more melting and thus reducing the albedo further, resulting in still more heating. \\n\",\n",
       " 'Snow\\n',\n",
       " '\\n',\n",
       " 'Snow albedo is highly variable, ranging from as high as 0.9 for freshly fallen snow, to about 0.4 for melting snow, and as low as 0.2 for dirty snow. Over Antarctica snow albedo averages a little more than 0.8. If a marginally snow-covered area warms, snow tends to melt, lowering the albedo, and hence leading to more snowmelt because more radiation is being absorbed by the snowpack (the ice–albedo positive feedback). Just as fresh snow has a higher albedo than does dirty snow, the albedo of snow-covered sea ice is far higher than that of sea water. Sea water absorbs more solar radiation than would the same surface covered with reflective snow. When sea ice melts, either due to a rise in sea temperature or in response to increased solar radiation from above, the snow-covered surface is reduced, and more surface of sea water is exposed, so the rate of energy absorption increases. The extra absorbed energy heats the sea water, which in turn increases the rate at which sea ice melts. As with the preceding example of snowmelt, the process of melting of sea ice is thus another example of a positive feedback. Both positive feedback loops have long been recognized as important for global warming. Cryoconite, powdery windblown dust containing soot, sometimes reduces albedo on glaciers and ice sheets. The dynamical nature of albedo in response to positive feedback, together with the effects of small errors in the measurement of albedo, can lead to large errors in energy estimates. Because of this, in order to reduce the error of energy estimates, it is important to measure the albedo of snow-covered areas through remote sensing techniques rather than applying a single value for albedo over broad regions. \\n',\n",
       " 'Small-scale effects\\n',\n",
       " '\\n']"
      ]
     },
     "execution_count": 44,
     "metadata": {},
     "output_type": "execute_result"
    }
   ],
   "source": [
    "all_data[55:100]"
   ]
  },
  {
   "cell_type": "code",
   "execution_count": 45,
   "metadata": {},
   "outputs": [
    {
     "data": {
      "text/plain": [
       "101"
      ]
     },
     "execution_count": 45,
     "metadata": {},
     "output_type": "execute_result"
    }
   ],
   "source": [
    "len(\"</text></article><article><id>39</id><title>Albedo</title><text> Albedo (; ) is the measure of the di\")"
   ]
  },
  {
   "cell_type": "code",
   "execution_count": 92,
   "metadata": {},
   "outputs": [],
   "source": [
    "data_dict = dict()\n",
    "curr_title = \"\"\n",
    "search_title = True\n",
    "for line in all_data:\n",
    "    if line.strip() == \"==========\":\n",
    "        search_title = True\n",
    "    elif search_title and line!=\"\\n\" and \"<title>\" in line[:150]:\n",
    "        line_ = line.replace(\"</title>\", \"<title>\")\n",
    "        curr_title = line_.split(\"<title>\")[1]\n",
    "        line = line.split(\"</title><text>\")[1].strip()\n",
    "        data_dict[curr_title] = [line]\n",
    "        search_title = False\n",
    "    elif line.strip() != \"\":\n",
    "        data_dict[curr_title].append(line.strip())"
   ]
  },
  {
   "cell_type": "code",
   "execution_count": 93,
   "metadata": {},
   "outputs": [
    {
     "data": {
      "text/plain": [
       "21217"
      ]
     },
     "execution_count": 93,
     "metadata": {},
     "output_type": "execute_result"
    }
   ],
   "source": [
    "article_names = list(data_dict.keys())\n",
    "len(article_names)"
   ]
  },
  {
   "cell_type": "code",
   "execution_count": 94,
   "metadata": {},
   "outputs": [],
   "source": [
    "tmp_dol = data_dict[\"Dolphin\"]"
   ]
  },
  {
   "cell_type": "code",
   "execution_count": 95,
   "metadata": {},
   "outputs": [
    {
     "data": {
      "text/plain": [
       "589920"
      ]
     },
     "execution_count": 95,
     "metadata": {},
     "output_type": "execute_result"
    }
   ],
   "source": [
    "sys.getsizeof(data_dict)"
   ]
  },
  {
   "cell_type": "code",
   "execution_count": 96,
   "metadata": {},
   "outputs": [],
   "source": [
    "for title, contents in data_dict.items():\n",
    "    headers = title\n",
    "    temp_line = \"\"\n",
    "    new_contents = []\n",
    "    for line in contents:\n",
    "        # print(line)\n",
    "        # continue\n",
    "        if len(line) < 50:\n",
    "            temp_line += line + \". \"\n",
    "            headers += \", \" + line\n",
    "        elif len(line) >= 50 and temp_line != \"\":\n",
    "            line = temp_line + line\n",
    "            temp_line = \"\"\n",
    "            new_contents.append(line)\n",
    "        else:\n",
    "            new_contents.append(line)\n",
    "    data_dict[title] = {\n",
    "        \"header\": headers,\n",
    "        \"contents\": new_contents\n",
    "        }\n",
    "    "
   ]
  },
  {
   "cell_type": "code",
   "execution_count": 98,
   "metadata": {},
   "outputs": [
    {
     "data": {
      "text/html": [
       "<div>\n",
       "<style scoped>\n",
       "    .dataframe tbody tr th:only-of-type {\n",
       "        vertical-align: middle;\n",
       "    }\n",
       "\n",
       "    .dataframe tbody tr th {\n",
       "        vertical-align: top;\n",
       "    }\n",
       "\n",
       "    .dataframe thead th {\n",
       "        text-align: right;\n",
       "    }\n",
       "</style>\n",
       "<table border=\"1\" class=\"dataframe\">\n",
       "  <thead>\n",
       "    <tr style=\"text-align: right;\">\n",
       "      <th></th>\n",
       "      <th>title</th>\n",
       "      <th>header</th>\n",
       "    </tr>\n",
       "  </thead>\n",
       "  <tbody>\n",
       "    <tr>\n",
       "      <th>0</th>\n",
       "      <td>Anarchism</td>\n",
       "      <td>Anarchism, Etymology, terminology, and definit...</td>\n",
       "    </tr>\n",
       "    <tr>\n",
       "      <th>1</th>\n",
       "      <td>Albedo</td>\n",
       "      <td>Albedo, Terrestrial albedo, White-sky, black-s...</td>\n",
       "    </tr>\n",
       "    <tr>\n",
       "      <th>2</th>\n",
       "      <td>A</td>\n",
       "      <td>A, History, Typographic variants, Use in writi...</td>\n",
       "    </tr>\n",
       "    <tr>\n",
       "      <th>3</th>\n",
       "      <td>Alabama</td>\n",
       "      <td>Alabama, Etymology, History, Pre-European sett...</td>\n",
       "    </tr>\n",
       "    <tr>\n",
       "      <th>4</th>\n",
       "      <td>Achilles</td>\n",
       "      <td>Achilles, Etymology, Description, Birth and ea...</td>\n",
       "    </tr>\n",
       "  </tbody>\n",
       "</table>\n",
       "</div>"
      ],
      "text/plain": [
       "       title                                             header\n",
       "0  Anarchism  Anarchism, Etymology, terminology, and definit...\n",
       "1     Albedo  Albedo, Terrestrial albedo, White-sky, black-s...\n",
       "2          A  A, History, Typographic variants, Use in writi...\n",
       "3    Alabama  Alabama, Etymology, History, Pre-European sett...\n",
       "4   Achilles  Achilles, Etymology, Description, Birth and ea..."
      ]
     },
     "execution_count": 98,
     "metadata": {},
     "output_type": "execute_result"
    }
   ],
   "source": [
    "df_wiki = pd.DataFrame({\"title\":list(data_dict.keys())})\n",
    "df_wiki[\"header\"] = df_wiki[\"title\"].apply(lambda x: data_dict.get(x).get(\"header\"))\n",
    "df_wiki.head()"
   ]
  },
  {
   "cell_type": "code",
   "execution_count": 99,
   "metadata": {},
   "outputs": [],
   "source": [
    "df_wiki[\"contents\"] = df_wiki[\"title\"].apply(lambda x: data_dict.get(x).get(\"contents\"))"
   ]
  },
  {
   "cell_type": "code",
   "execution_count": 100,
   "metadata": {},
   "outputs": [
    {
     "data": {
      "text/html": [
       "<div>\n",
       "<style scoped>\n",
       "    .dataframe tbody tr th:only-of-type {\n",
       "        vertical-align: middle;\n",
       "    }\n",
       "\n",
       "    .dataframe tbody tr th {\n",
       "        vertical-align: top;\n",
       "    }\n",
       "\n",
       "    .dataframe thead th {\n",
       "        text-align: right;\n",
       "    }\n",
       "</style>\n",
       "<table border=\"1\" class=\"dataframe\">\n",
       "  <thead>\n",
       "    <tr style=\"text-align: right;\">\n",
       "      <th></th>\n",
       "      <th>title</th>\n",
       "      <th>header</th>\n",
       "      <th>contents</th>\n",
       "    </tr>\n",
       "  </thead>\n",
       "  <tbody>\n",
       "    <tr>\n",
       "      <th>0</th>\n",
       "      <td>Anarchism</td>\n",
       "      <td>Anarchism, Etymology, terminology, and definit...</td>\n",
       "      <td>[Anarchism is a political philosophy and movem...</td>\n",
       "    </tr>\n",
       "    <tr>\n",
       "      <th>1</th>\n",
       "      <td>Albedo</td>\n",
       "      <td>Albedo, Terrestrial albedo, White-sky, black-s...</td>\n",
       "      <td>[Albedo (; ) is the measure of the diffuse ref...</td>\n",
       "    </tr>\n",
       "    <tr>\n",
       "      <th>2</th>\n",
       "      <td>A</td>\n",
       "      <td>A, History, Typographic variants, Use in writi...</td>\n",
       "      <td>[A, or a, is the first letter and the first vo...</td>\n",
       "    </tr>\n",
       "    <tr>\n",
       "      <th>3</th>\n",
       "      <td>Alabama</td>\n",
       "      <td>Alabama, Etymology, History, Pre-European sett...</td>\n",
       "      <td>[Alabama  is a state in the Southeastern regio...</td>\n",
       "    </tr>\n",
       "    <tr>\n",
       "      <th>4</th>\n",
       "      <td>Achilles</td>\n",
       "      <td>Achilles, Etymology, Description, Birth and ea...</td>\n",
       "      <td>[In Greek mythology, Achilles ( ) or Achilleus...</td>\n",
       "    </tr>\n",
       "  </tbody>\n",
       "</table>\n",
       "</div>"
      ],
      "text/plain": [
       "       title                                             header  \\\n",
       "0  Anarchism  Anarchism, Etymology, terminology, and definit...   \n",
       "1     Albedo  Albedo, Terrestrial albedo, White-sky, black-s...   \n",
       "2          A  A, History, Typographic variants, Use in writi...   \n",
       "3    Alabama  Alabama, Etymology, History, Pre-European sett...   \n",
       "4   Achilles  Achilles, Etymology, Description, Birth and ea...   \n",
       "\n",
       "                                            contents  \n",
       "0  [Anarchism is a political philosophy and movem...  \n",
       "1  [Albedo (; ) is the measure of the diffuse ref...  \n",
       "2  [A, or a, is the first letter and the first vo...  \n",
       "3  [Alabama  is a state in the Southeastern regio...  \n",
       "4  [In Greek mythology, Achilles ( ) or Achilleus...  "
      ]
     },
     "execution_count": 100,
     "metadata": {},
     "output_type": "execute_result"
    }
   ],
   "source": [
    "df_wiki.head()"
   ]
  },
  {
   "cell_type": "code",
   "execution_count": 114,
   "metadata": {},
   "outputs": [],
   "source": [
    "df_para_ = []\n",
    "for title, vals in data_dict.items():\n",
    "    for line in vals[\"contents\"]:\n",
    "        df_para_.append([title, line])\n",
    "df_wiki_paragraph = pd.DataFrame(df_para_, columns=[\"title\", 'paragraph'])"
   ]
  },
  {
   "cell_type": "code",
   "execution_count": 116,
   "metadata": {},
   "outputs": [
    {
     "data": {
      "text/html": [
       "<div>\n",
       "<style scoped>\n",
       "    .dataframe tbody tr th:only-of-type {\n",
       "        vertical-align: middle;\n",
       "    }\n",
       "\n",
       "    .dataframe tbody tr th {\n",
       "        vertical-align: top;\n",
       "    }\n",
       "\n",
       "    .dataframe thead th {\n",
       "        text-align: right;\n",
       "    }\n",
       "</style>\n",
       "<table border=\"1\" class=\"dataframe\">\n",
       "  <thead>\n",
       "    <tr style=\"text-align: right;\">\n",
       "      <th></th>\n",
       "      <th>title</th>\n",
       "      <th>paragraph</th>\n",
       "    </tr>\n",
       "  </thead>\n",
       "  <tbody>\n",
       "    <tr>\n",
       "      <th>0</th>\n",
       "      <td>Anarchism</td>\n",
       "      <td>Anarchism is a political philosophy and moveme...</td>\n",
       "    </tr>\n",
       "    <tr>\n",
       "      <th>1</th>\n",
       "      <td>Anarchism</td>\n",
       "      <td>Etymology, terminology, and definition. Main a...</td>\n",
       "    </tr>\n",
       "    <tr>\n",
       "      <th>2</th>\n",
       "      <td>Anarchism</td>\n",
       "      <td>History. Main article: History of anarchism. P...</td>\n",
       "    </tr>\n",
       "    <tr>\n",
       "      <th>3</th>\n",
       "      <td>Anarchism</td>\n",
       "      <td>Modern era. During the French Revolution, part...</td>\n",
       "    </tr>\n",
       "    <tr>\n",
       "      <th>4</th>\n",
       "      <td>Anarchism</td>\n",
       "      <td>Post-war era. By the end of World War II, the ...</td>\n",
       "    </tr>\n",
       "    <tr>\n",
       "      <th>...</th>\n",
       "      <td>...</td>\n",
       "      <td>...</td>\n",
       "    </tr>\n",
       "    <tr>\n",
       "      <th>340699</th>\n",
       "      <td>Horn</td>\n",
       "      <td>Places. Cape Horn, the southernmost point of S...</td>\n",
       "    </tr>\n",
       "    <tr>\n",
       "      <th>340700</th>\n",
       "      <td>Horn</td>\n",
       "      <td>Music. Horn (album), an album by Pharaoh Overl...</td>\n",
       "    </tr>\n",
       "    <tr>\n",
       "      <th>340701</th>\n",
       "      <td>Horn</td>\n",
       "      <td>Slang. Telephone, also known as \"the horn\" Two...</td>\n",
       "    </tr>\n",
       "    <tr>\n",
       "      <th>340702</th>\n",
       "      <td>Horn</td>\n",
       "      <td>Other uses. Horn (Chinese constellation), part...</td>\n",
       "    </tr>\n",
       "    <tr>\n",
       "      <th>340703</th>\n",
       "      <td>Horn</td>\n",
       "      <td>See also. Horned God Horns (disambiguation) Ho...</td>\n",
       "    </tr>\n",
       "  </tbody>\n",
       "</table>\n",
       "<p>340704 rows × 2 columns</p>\n",
       "</div>"
      ],
      "text/plain": [
       "            title                                          paragraph\n",
       "0       Anarchism  Anarchism is a political philosophy and moveme...\n",
       "1       Anarchism  Etymology, terminology, and definition. Main a...\n",
       "2       Anarchism  History. Main article: History of anarchism. P...\n",
       "3       Anarchism  Modern era. During the French Revolution, part...\n",
       "4       Anarchism  Post-war era. By the end of World War II, the ...\n",
       "...           ...                                                ...\n",
       "340699       Horn  Places. Cape Horn, the southernmost point of S...\n",
       "340700       Horn  Music. Horn (album), an album by Pharaoh Overl...\n",
       "340701       Horn  Slang. Telephone, also known as \"the horn\" Two...\n",
       "340702       Horn  Other uses. Horn (Chinese constellation), part...\n",
       "340703       Horn  See also. Horned God Horns (disambiguation) Ho...\n",
       "\n",
       "[340704 rows x 2 columns]"
      ]
     },
     "execution_count": 116,
     "metadata": {},
     "output_type": "execute_result"
    }
   ],
   "source": [
    "df_wiki_paragraph"
   ]
  },
  {
   "attachments": {},
   "cell_type": "markdown",
   "metadata": {},
   "source": []
  },
  {
   "cell_type": "code",
   "execution_count": null,
   "metadata": {},
   "outputs": [],
   "source": []
  },
  {
   "cell_type": "code",
   "execution_count": null,
   "metadata": {},
   "outputs": [],
   "source": []
  },
  {
   "cell_type": "code",
   "execution_count": null,
   "metadata": {},
   "outputs": [],
   "source": []
  },
  {
   "cell_type": "code",
   "execution_count": null,
   "metadata": {},
   "outputs": [],
   "source": []
  }
 ],
 "metadata": {
  "kernelspec": {
   "display_name": "trans",
   "language": "python",
   "name": "python3"
  },
  "language_info": {
   "codemirror_mode": {
    "name": "ipython",
    "version": 3
   },
   "file_extension": ".py",
   "mimetype": "text/x-python",
   "name": "python",
   "nbconvert_exporter": "python",
   "pygments_lexer": "ipython3",
   "version": "3.9.15"
  },
  "orig_nbformat": 4,
  "vscode": {
   "interpreter": {
    "hash": "df59403bccc6b2d68848cdae14c7cd0ab0c51eb2d999ce9849aadca66dea64f1"
   }
  }
 },
 "nbformat": 4,
 "nbformat_minor": 2
}

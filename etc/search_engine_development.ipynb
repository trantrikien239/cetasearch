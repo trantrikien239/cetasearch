{
 "cells": [
  {
   "attachments": {},
   "cell_type": "markdown",
   "metadata": {},
   "source": [
    "Let's develop a \"New Bing Clone\" with most of its features and functions. \n",
    "\n",
    "Due to the limitation of computing power, this search engine will mostly use knowledge from wikipedia articles that focus on ocean ecosystem and Cetacean animals!"
   ]
  },
  {
   "cell_type": "code",
   "execution_count": 1,
   "metadata": {},
   "outputs": [],
   "source": [
    "%load_ext autoreload\n",
    "%autoreload 2"
   ]
  },
  {
   "cell_type": "code",
   "execution_count": 78,
   "metadata": {},
   "outputs": [],
   "source": [
    "import numpy as np\n",
    "import pandas as pd\n",
    "import os"
   ]
  },
  {
   "cell_type": "code",
   "execution_count": 79,
   "metadata": {},
   "outputs": [],
   "source": [
    "import openai\n"
   ]
  },
  {
   "cell_type": "code",
   "execution_count": 3,
   "metadata": {},
   "outputs": [],
   "source": [
    "from semantic_search_engine import SemanticSearchEngine"
   ]
  },
  {
   "cell_type": "code",
   "execution_count": 4,
   "metadata": {},
   "outputs": [],
   "source": [
    "df_titles = pd.read_parquet(\"data/ocean_processed/titles.parquet\")\n",
    "df_paragraphs = pd.read_parquet(\"data/ocean_processed/paragraphs.parquet\")\n"
   ]
  },
  {
   "cell_type": "code",
   "execution_count": 100,
   "metadata": {},
   "outputs": [
    {
     "data": {
      "text/plain": [
       "['Marine biology',\n",
       " 'List of marine aquarium fish species',\n",
       " 'List of freshwater aquarium invertebrate species',\n",
       " 'Dolphin',\n",
       " 'Whale',\n",
       " 'Ecosystem',\n",
       " 'List of freshwater aquarium fish species',\n",
       " 'Ecology',\n",
       " 'Blue whale',\n",
       " 'Convention on Fishing and Conservation of the Living Resources of the High Seas']"
      ]
     },
     "execution_count": 100,
     "metadata": {},
     "output_type": "execute_result"
    }
   ],
   "source": [
    "df_titles[\"title\"].tolist()[:10]"
   ]
  },
  {
   "cell_type": "code",
   "execution_count": 5,
   "metadata": {},
   "outputs": [
    {
     "name": "stdout",
     "output_type": "stream",
     "text": [
      "==== Loading header embeddings ====\n"
     ]
    },
    {
     "data": {
      "application/vnd.jupyter.widget-view+json": {
       "model_id": "7f6876228f304d15bf59f00e5dd33538",
       "version_major": 2,
       "version_minor": 0
      },
      "text/plain": [
       "Batches:   0%|          | 0/8 [00:00<?, ?it/s]"
      ]
     },
     "metadata": {},
     "output_type": "display_data"
    },
    {
     "name": "stdout",
     "output_type": "stream",
     "text": [
      "Loading header embeddings: 23.18 (s)\n",
      "==== Loading paragraph embeddings ====\n"
     ]
    },
    {
     "data": {
      "application/vnd.jupyter.widget-view+json": {
       "model_id": "7f1af55cc13f4bbd83d1ca82d789f4be",
       "version_major": 2,
       "version_minor": 0
      },
      "text/plain": [
       "Batches:   0%|          | 0/148 [00:00<?, ?it/s]"
      ]
     },
     "metadata": {},
     "output_type": "display_data"
    },
    {
     "name": "stdout",
     "output_type": "stream",
     "text": [
      "Loading paragraph embeddings: 1069.94 (s)\n"
     ]
    }
   ],
   "source": [
    "se = SemanticSearchEngine(df_titles, df_paragraphs)"
   ]
  },
  {
   "cell_type": "code",
   "execution_count": 21,
   "metadata": {},
   "outputs": [],
   "source": [
    "query = \"How many calves does mother dolphin have?\""
   ]
  },
  {
   "cell_type": "code",
   "execution_count": 22,
   "metadata": {},
   "outputs": [],
   "source": [
    "# # se.df_header = se.df_header.reset_index(drop=True)[[\"title\", \"header\"]]\n",
    "# # se.df_paragraph = se.df_paragraph.reset_index(drop=True)\n",
    "# se.df_header\n",
    "# se.df_paragraph"
   ]
  },
  {
   "cell_type": "code",
   "execution_count": 81,
   "metadata": {},
   "outputs": [],
   "source": [
    "# se.search_paragraph(query=query)"
   ]
  },
  {
   "cell_type": "code",
   "execution_count": 109,
   "metadata": {},
   "outputs": [
    {
     "data": {
      "text/plain": [
       "(4710, 768)"
      ]
     },
     "execution_count": 109,
     "metadata": {},
     "output_type": "execute_result"
    }
   ],
   "source": [
    "se.paragraph_emb.shape"
   ]
  },
  {
   "cell_type": "code",
   "execution_count": 110,
   "metadata": {},
   "outputs": [
    {
     "data": {
      "text/plain": [
       "numpy.ndarray"
      ]
     },
     "execution_count": 110,
     "metadata": {},
     "output_type": "execute_result"
    }
   ],
   "source": [
    "type(se.paragraph_emb)"
   ]
  },
  {
   "cell_type": "code",
   "execution_count": 112,
   "metadata": {},
   "outputs": [],
   "source": [
    "np.save(\"data/ocean_processed/paragraph_emb.npy\", se.paragraph_emb)\n",
    "np.save(\"data/ocean_processed/header_emb.npy\", se.header_emb)"
   ]
  },
  {
   "cell_type": "code",
   "execution_count": 96,
   "metadata": {},
   "outputs": [
    {
     "name": "stdout",
     "output_type": "stream",
     "text": [
      "Use the following context to answer below query: \n",
      "Life cycle. Whales are fully aquatic creatures, which means that birth and courtship behaviours are very different from terrestrial and semi-aquatic creatures. Since they are unable to go onto land to calve, they deliver the baby with the fetus positioned for tail-first delivery. This prevents the baby from drowning either upon or during delivery. To feed the new-born, whales, being aquatic, must squirt the milk into the mouth of the calf. Being mammals, they have mammary glands used for nursing calves; they are weaned off at about 11 months of age. This milk contains high amounts of fat which is meant to hasten the development of blubber; it contains so much fat that it has the consistency of toothpaste. Females deliver a single calf with gestation lasting about a year, dependency until one to two years, and maturity around seven to ten years, all varying between the species. This mode of reproduction produces few offspring, but increases the survival probability of each one. Females, referred to as \"cows\", carry the responsibility of childcare as males, referred to as \"bulls\", play no part in raising calves. Most mysticetes reside at the poles. So, to prevent the unborn calf from dying of frostbite, they migrate to calving/mating grounds. They will then stay there for a matter of months until the calf has developed enough blubber to survive the bitter temperatures of the poles. Until then, the calves will feed on the mother's fatty milk. With the exception of the humpback whale, it is largely unknown when whales migrate. Most will travel from the Arctic or Antarctic into the tropics to mate, calve, and raise during the winter and spring; they will migrate back to the poles in the warmer summer months so the calf can continue growing while the mother can continue eating, as they fast in the breeding grounds. One exception to this is the southern right whale, which migrates to Patagonia and western New Zealand to calve; both are well out of the tropic zone.\n",
      "Reproduction and sexuality. Dolphin copulation happens belly to belly; though many species engage in lengthy foreplay, the actual act is usually brief, but may be repeated several times within a short timespan. The gestation period varies with species; for the small Tucuxi dolphin, this period is around 11 to 12 months, while for the orca, the gestation period is around 17 months. Typically dolphins give birth to a single calf, which is, unlike most other mammals, born tail first in most cases. They usually become sexually active at a young age, even before reaching sexual maturity. The age of sexual maturity varies by species and gender. Dolphins are known to display non-reproductive sexual behavior, engaging in masturbation, stimulation of the genital area of other individuals using the rostrum or flippers, and homosexual contact. Various species of dolphin have been known to engage in sexual behavior, including copulation with dolphins of other species, and occasionally exhibit behave sexually towards other animals, including humans. . Sexual encounters may be violent, with male dolphins sometimes showing aggressive behavior towards both females and other males. Male dolphins may also work together and attempt to herd females in estrus, keeping the females by their side by means of both physical aggression and intimidation, to increase their chances of reproductive success.\n",
      "\n",
      "Question: How many calves does mother dolphin have?\n",
      "\n",
      "Answer:\n"
     ]
    }
   ],
   "source": [
    "query = \"How many calves does mother dolphin have?\"\n",
    "print(se.generate_answer(query=query))"
   ]
  },
  {
   "cell_type": "code",
   "execution_count": 53,
   "metadata": {},
   "outputs": [
    {
     "name": "stdout",
     "output_type": "stream",
     "text": [
      "Context: \n",
      "Behavior. Socialization. Dolphins are highly social animals, often living in pods of up to a dozen individuals, though pod sizes and structures vary greatly between species and locations. In places with a high abundance of food, pods can merge temporarily, forming a superpod; such groupings may exceed 1,000 dolphins. Membership in pods is not rigid; interchange is common. They establish strong social bonds, and will stay with injured or ill members, helping them to breathe by bringing them to the surface if needed. This altruism does not appear to be limited to their own species. The dolphin Moko in New Zealand has been observed guiding a female pygmy sperm whale together with her calf out of shallow water where they had stranded several times. They have also been seen protecting swimmers from sharks by swimming circles around the swimmers or charging the sharks to make them go away. Dolphins communicate using a variety of clicks, whistle-like sounds and other vocalizations. Dolphins also use nonverbal communication by means of touch and posturing. Dolphins also display culture, something long believed to be unique to humans (and possibly other primate species). In May 2005, a discovery in Australia found Indo-Pacific bottlenose dolphins (Tursiops aduncus) teaching their young to use tools. They cover their snouts with sponges to protect them while foraging. This knowledge is mostly transferred by mothers to daughters, unlike simian primates, where knowledge is generally passed on to both sexes. Using sponges as mouth protection is a learned behavior. Another learned behavior was discovered among river dolphins in Brazil, where some male dolphins use weeds and sticks as part of a sexual display. Forms of care-giving between fellows and even for members of different species(see Moko (dolphin)) are recorded in various species – such as trying to save weakened fellows or female pilot whales holding up dead calves for long periods. Dolphins engage in acts of aggression towards each other. The older a male dolphin is, the more likely his body is to be covered with bite scars. Male dolphins can get into disputes over companions and females. Acts of aggression can become so intense that targeted dolphins sometimes go into exile after losing a fight. Male bottlenose dolphins have been known to engage in infanticide. Dolphins have also been known to kill porpoises for reasons which are not fully understood, as porpoises generally do not share the same diet as dolphins and are therefore not competitors for food supplies. The Cornwall Wildlife Trust records about one such death a year. Possible explanations include misdirected infanticide, misdirected sexual aggression or play behaviour.\n",
      "In the Middle East the best known are Dolphin Bay at Atlantis, The Palm and the Dubai Dolphinarium. Various species of dolphins are kept in captivity. These small cetaceans are more often than not kept in theme parks, such as SeaWorld, commonly known as a dolphinarium. Bottlenose dolphins are the most common species of dolphin kept in dolphinariums as they are relatively easy to train, have a long lifespan in captivity and have a friendly appearance. Hundreds if not thousands of bottlenose dolphins live in captivity across the world, though exact numbers are hard to determine. Other species kept in captivity are spotted dolphins, false killer whales and common dolphins, Commerson's dolphins, as well as rough-toothed dolphins, but all in much lower numbers than the bottlenose dolphin. There are also fewer than ten pilot whales, Amazon river dolphins, Risso's dolphins, spinner dolphins, or tucuxi in captivity. An unusual and very rare hybrid dolphin, known as a wolphin, is kept at the Sea Life Park in Hawaii, which is a cross between a bottlenose dolphin and a false killer whale. The number of orcas kept in captivity is very small, especially when compared to the number of bottlenose dolphins, with 60 captive orcas being held in aquaria . The orca's intelligence, trainability, striking appearance, playfulness in captivity and sheer size have made it a popular exhibit at aquaria and aquatic theme parks. From 1976 to 1997, 55 whales were taken from the wild in Iceland, 19 from Japan, and three from Argentina. These figures exclude animals that died during capture. Live captures fell dramatically in the 1990s, and by 1999, about 40% of the 48 animals on display in the world were captive-born. Organizations such as the Mote Marine Laboratory rescue and rehabilitate sick, wounded, stranded or orphaned dolphins while others, such as the Whale and Dolphin Conservation and Hong Kong Dolphin Conservation Society, work on dolphin conservation and welfare. India has declared the dolphin as its national aquatic animal in an attempt to protect the endangered Ganges river dolphin. The Vikramshila Gangetic Dolphin Sanctuary has been created in the Ganges river for the protection of the animals.\n",
      "External links. Conservation, research and news: De Rohan, Anuschka. \"Why dolphins are deep thinkers\", The Guardian, July 3, 2003. The Dolphin Institute The Oceania Project, Caring for Whales and Dolphins Tursiops.org: Current Cetacean-related news Photos: PBS NOVA: Dolphins: Close Encounters\n",
      "\n",
      "Questions: Three interesting facts about dolphin?\n",
      "\n",
      "Answers:\n"
     ]
    }
   ],
   "source": [
    "query = \"Three interesting facts about dolphin?\"\n",
    "print(se.generate_answer(query=query))"
   ]
  },
  {
   "cell_type": "code",
   "execution_count": 66,
   "metadata": {},
   "outputs": [],
   "source": [
    "generated_text = \"\"\"1. Dolphins are highly social creatures, living in pods of up to a dozen individuals, with larger groupings known as superpods reaching up to 1,000 dolphins.\n",
    "2. Dolphins communicate using a variety of clicks, whistle-like sounds and other vocalizations, as well as nonverbal communication by means of touch and posturing.\n",
    "3. Dolphins display culture and have been known to use tools, such as sponges to protect their snouts while foraging.\n",
    "4. Dolphins engage in altruistic behavior, including helping injured or ill members of their pod, and protecting swimmers from sharks.\n",
    "5. Dolphins have been observed teaching their young to use tools, and transferring knowledge mostly from mothers to daughters.\n",
    "6. Dolphins engage in acts of aggression towards each other, and male dolphins have been known to engage in infanticide.\n",
    "7. Dolphins have been known to kill porpoises, though the reason is not fully understood.\n",
    "8. Bottlenose dolphins are the most common species of dolphin kept in captivity in dolphinariums.\n",
    "9. There is a rare hybrid dolphin, known as a wolphin, kept at the Sea Life Park in Hawaii, that is a cross between a bottlenose dolphin and a false killer whale.\"\"\""
   ]
  },
  {
   "cell_type": "code",
   "execution_count": 67,
   "metadata": {},
   "outputs": [],
   "source": [
    "df_top_paragraphs = se.search_paragraph(query=query)\n",
    "# df_top_paragraphs"
   ]
  },
  {
   "cell_type": "code",
   "execution_count": 68,
   "metadata": {},
   "outputs": [
    {
     "name": "stdout",
     "output_type": "stream",
     "text": [
      "1. Dolphins are highly social creatures, living in pods of up to a dozen individuals, with larger groupings known as superpods reaching up to 1,000 dolphins[0].\n",
      "2. Dolphins communicate using a variety of clicks, whistle-like sounds and other vocalizations, as well as nonverbal communication by means of touch and posturing[0].\n",
      "3. Dolphins display culture and have been known to use tools, such as sponges to protect their snouts while foraging[0].\n",
      "4. Dolphins engage in altruistic behavior, including helping injured or ill members of their pod, and protecting swimmers from sharks[0].\n",
      "5. Dolphins have been observed teaching their young to use tools, and transferring knowledge mostly from mothers to daughters[0].\n",
      "6. Dolphins engage in acts of aggression towards each other, and male dolphins have been known to engage in infanticide[0].\n",
      "7. Dolphins have been known to kill porpoises, though the reason is not fully understood[0].\n",
      "8. Bottlenose dolphins are the most common species of dolphin kept in captivity in dolphinariums[1].\n",
      "9. There is a rare hybrid dolphin, known as a wolphin, kept at the Sea Life Park in Hawaii, that is a cross between a bottlenose dolphin and a false killer whale[1]..\n"
     ]
    }
   ],
   "source": [
    "answer = se.annotation(generated_text, df_top_paragraphs)\n",
    "print(answer)"
   ]
  },
  {
   "cell_type": "code",
   "execution_count": null,
   "metadata": {},
   "outputs": [],
   "source": []
  },
  {
   "cell_type": "code",
   "execution_count": 91,
   "metadata": {},
   "outputs": [],
   "source": [
    "response = openai.Completion.create(\n",
    "    model=\"text-curie-001\", \n",
    "    prompt=\"Write a quiz about Dolphins\", \n",
    "    temperature=0.33, max_tokens=256)"
   ]
  },
  {
   "cell_type": "code",
   "execution_count": 93,
   "metadata": {},
   "outputs": [
    {
     "name": "stdout",
     "output_type": "stream",
     "text": [
      "\n",
      "\n",
      "1. What is the scientific name for the bottlenose dolphin?\n",
      "\n",
      "A. Tursiops truncatus\n",
      "\n",
      "2. How long do dolphins live?\n",
      "\n",
      "A. Dolphins typically live between 20 to 30 years in the wild.\n",
      "\n",
      "3. How many species of dolphins are there?\n",
      "\n",
      "A. There are 40 different species of dolphins.\n",
      "\n",
      "4. What is the average size of a bottlenose dolphin?\n",
      "\n",
      "A. The average size of a bottlenose dolphin is 8 to 12 feet in length and can weigh up to 1,400 pounds.\n",
      "\n",
      "5. What is the primary diet of a bottlenose dolphin?\n",
      "\n",
      "A. The primary diet of a bottlenose dolphin consists of fish, squid, and crustaceans.\n"
     ]
    }
   ],
   "source": [
    "print(response[\"choices\"][0][\"text\"])"
   ]
  },
  {
   "cell_type": "code",
   "execution_count": null,
   "metadata": {},
   "outputs": [],
   "source": []
  },
  {
   "cell_type": "code",
   "execution_count": 102,
   "metadata": {},
   "outputs": [
    {
     "name": "stdout",
     "output_type": "stream",
     "text": [
      "Use the following context to answer below query: \n",
      "Evolution. Whales are descendants of land-dwelling mammals of the artiodactyl order (even-toed ungulates). They are related to the Indohyus, an extinct chevrotain-like ungulate, from which they split approximately 48 million years ago. Primitive cetaceans, or archaeocetes, first took to the sea approximately 49 million years ago and became fully aquatic 5–10 million years later. What defines an archaeocete is the presence of anatomical features exclusive to cetaceans, alongside other primitive features not found in modern cetaceans, such as visible legs or asymmetrical teeth. Their features became adapted for living in the marine environment. Major anatomical changes included their hearing set-up that channeled vibrations from the jaw to the earbone (Ambulocetus 49 mya), a streamlined body and the growth of flukes on the tail (Protocetus 43 mya), the migration of the nostrils toward the top of the cranium (blowholes), and the modification of the forelimbs into flippers (Basilosaurus 35 mya), and the shrinking and eventual disappearance of the hind limbs (the first odontocetes and mysticetes 34 mya). Whale morphology shows a number of examples of convergent evolution, the most obvious being the streamlined fish-like body shape. Other examples include the use of echolocation for hunting in low light conditions— which is the same hearing adaptation used by bats— and, in the rorqual whales, jaw adaptations, similar to those found in pelicans, that enable engulfment feeding. Today, the closest living relatives of cetaceans are the hippopotamuses; these share a semi-aquatic ancestor that branched off from other artiodactyls some 60 mya. Around 40 mya, a common ancestor between the two branched off into cetacea and anthracotheres; nearly all anthracotheres became extinct at the end of the Pleistocene 2.5 mya, eventually leaving only one surviving lineage– the hippopotamus. Whales split into two separate parvorders around 34 mya– the baleen whales (Mysticetes) and the toothed whales (Odontocetes).\n",
      "References. Further reading. NOAA Fisheries, Office of Protected Resources Blue whale biology &amp; status\n",
      "Cetacea (; , ) is an infraorder of aquatic mammals that includes whales, dolphins, and porpoises. Key characteristics are their fully aquatic lifestyle, streamlined body shape, often large size and exclusively carnivorous diet. They propel themselves through the water with powerful up-and-down movement of their tail which ends in a paddle-like fluke, using their flipper-shaped forelimbs to maneuver. While the majority of cetaceans live in marine environments, a small number exclusively reside in brackish water or fresh water. Having a cosmopolitan distribution, they can be found in some rivers and all of Earth's oceans, and many species inhabit vast ranges where they migrate with the changing of the seasons. Cetaceans are famous for their high intelligence and complex social behaviour as well as for the enormous size of some of the group's members, such as the blue whale which reaches a maximum confirmed length of 29.9 meters (98 feet) and a weight of 173 tonnes (190 short tons), making it the largest animal known ever to have existed. There are approximately 89 living species split into two parvorders: Odontoceti or toothed whales (containing porpoises, dolphins, other predatory whales like the beluga and the sperm whale, and the poorly understood beaked whales) and the filter feeding Mysticeti or baleen whales (which includes species like the blue whale, the humpback whale and the bowhead whale). Despite their highly modified bodies and carnivorous lifestyle, genetic and fossil evidence places cetaceans as nested within even-toed ungulates, most closely related to hippopotamus within the clade Whippomorpha. Cetaceans have been extensively hunted for their meat, blubber and oil by commercial operations. Although the International Whaling Commission has agreed on putting a halt to commercial whaling, whale hunting is still going on, either under IWC quotas to assist the subsistence of Arctic native people or in the name of scientific research, although a large spectrum of non-lethal methods are now available to study marine mammals in the wild. Cetaceans also face severe environmental hazards from underwater noise pollution, entanglement in abandoned ropes and nets, collisions with ships, plastic and heavy metals build-up, to accelerating climate change, but how much they are affected varies widely from species to species, from minimally in the case of the southern bottlenose whale to the baiji (or Chinese river dolphin) which is considered to be functionally extinct due to human activity.\n",
      "\n",
      "Question: Five interesting facts about whale evolution?\n",
      "\n",
      "Answer:\n"
     ]
    }
   ],
   "source": [
    "query = \"Five interesting facts about whale evolution?\"\n",
    "print(se.generate_answer(query=query))"
   ]
  },
  {
   "cell_type": "code",
   "execution_count": 108,
   "metadata": {},
   "outputs": [
    {
     "name": "stdout",
     "output_type": "stream",
     "text": [
      " \n",
      "1. Dolphins belong to the infraorder Cetacea, while whales do not[1].\n",
      "2. Dolphins are smaller in size than whales.\n",
      "3. Dolphins have conical teeth adapted to catching fish or squid, while whales have plates of baleen[0].\n",
      "4. Dolphins have a more developed sense of hearing than whales[2].\n",
      "5. Dolphins are more agile and flexible than whales..\n"
     ]
    },
    {
     "data": {
      "text/html": [
       "<div>\n",
       "<style scoped>\n",
       "    .dataframe tbody tr th:only-of-type {\n",
       "        vertical-align: middle;\n",
       "    }\n",
       "\n",
       "    .dataframe tbody tr th {\n",
       "        vertical-align: top;\n",
       "    }\n",
       "\n",
       "    .dataframe thead th {\n",
       "        text-align: right;\n",
       "    }\n",
       "</style>\n",
       "<table border=\"1\" class=\"dataframe\">\n",
       "  <thead>\n",
       "    <tr style=\"text-align: right;\">\n",
       "      <th></th>\n",
       "      <th>title</th>\n",
       "      <th>paragraph</th>\n",
       "      <th>score</th>\n",
       "    </tr>\n",
       "  </thead>\n",
       "  <tbody>\n",
       "    <tr>\n",
       "      <th>0</th>\n",
       "      <td>Whale</td>\n",
       "      <td>Whales are a widely distributed and diverse group of fully aquatic placental marine mammals. As an informal and colloquial grouping, they correspond to large members of the infraorder Cetacea, i.e. all cetaceans apart from dolphins and porpoises. Dolphins and porpoises may be considered whales from a formal, cladistic perspective. Whales, dolphins and porpoises belong to the order Cetartiodactyla, which consists of even-toed ungulates. Their closest non-cetacean living relatives are the hippopotamuses, from which they and other cetaceans diverged about 54 million years ago. The two parvorders of whales, baleen whales (Mysticeti) and toothed whales (Odontoceti), are thought to have had their last common ancestor around 34 million years ago. Mysticetes include four extant (living) families: Balaenopteridae (the rorquals), Balaenidae (right whales), Cetotheriidae (the pygmy right whale), and Eschrichtiidae (the grey whale). Odontocetes include the Monodontidae (belugas and narwhals), Physeteridae (the sperm whale), Kogiidae (the dwarf and pygmy sperm whale), and Ziphiidae (the beaked whales), as well as the six families of dolphins and porpoises which are not considered whales in the informal sense. Whales are fully aquatic, open-ocean creatures: they can feed, mate, give birth, suckle and raise their young at sea. In opposite to most animals, they can drink salt water, although they prefer water coming from their food. Whales range in size from the and dwarf sperm whale to the and blue whale, which is the largest known animal that has ever lived. The sperm whale is the largest toothed predator on Earth. Several whale species exhibit sexual dimorphism, in that the females are larger than males. Baleen whales have no teeth; instead they have plates of baleen, fringe-like structures that enable them to expel the huge mouthfuls of water they take in, while retaining the krill and plankton they feed on. Because their heads are enormous—making up as much as 40% of their total body mass—and they have throat pleats that enable them to expand their mouths, they are able to take huge quantities of water into their mouth at a time. Baleen whales also have a well developed sense of smell. Toothed whales, in contrast, have conical teeth adapted to catching fish or squid. They also have such keen hearing—whether above or below the surface of the water—that some can survive even if they are blind. Some species, such as sperm whales, are particularly well adapted for diving to great depths to catch squid and other favoured prey. Whales evolved from land-living mammals, and must regularly surface to breathe air, although they can remain under water for long periods of time. Some species, such as the sperm whale, can stay underwater for up to 90 minutes They have blowholes (modified nostrils) located on top of their heads, through which air is taken in and expelled. They are warm-blooded, and have a layer of fat, or blubber, under the skin. With streamlined fusiform bodies and two limbs that are modified into flippers, whales can travel at speeds of up to 20 knots, though they are not as flexible or agile as seals. Whales produce a great variety of vocalizations, notably the extended songs of the humpback whale. Although whales are widespread, most species prefer the colder waters of the northern and southern hemispheres, and migrate to the equator to give birth. Species such as humpbacks and blue whales are capable of travelling thousands of miles without feeding. Males typically mate with multiple females every year, but females only mate every two to three years. Calves are typically born in the spring and summer; females bear all the responsibility for raising them. Mothers in some species fast and nurse their young for one to two years. Once relentlessly hunted for their products, whales are now protected by international law. The North Atlantic right whales nearly became extinct in the twentieth century, with a population low of 450, and the North Pacific grey whale population is ranked Critically Endangered by the IUCN. Besides the threat from whalers, they also face threats from bycatch and marine pollution. The meat, blubber and baleen of whales have traditionally been used by indigenous peoples of the Arctic. Whales have been depicted in various cultures worldwide, notably by the Inuit and the coastal peoples of Vietnam and Ghana, who sometimes hold whale funerals. Whales occasionally feature in literature and film. A famous example is the great white whale in Herman Melville's novel Moby Dick. Small whales, such as belugas, are sometimes kept in captivity and trained to perform tricks, but breeding success has been poor and the animals often die within a few months of capture. Whale watching has become a form of tourism around the world.</td>\n",
       "      <td>0.679408</td>\n",
       "    </tr>\n",
       "    <tr>\n",
       "      <th>1</th>\n",
       "      <td>Whale</td>\n",
       "      <td>Taxonomy and evolution. Phylogeny. The whales are part of the largely terrestrial mammalian clade Laurasiatheria. Whales do not form a clade or order; the infraorder Cetacea includes dolphins and porpoises, which are not considered whales in the informal sense. The phylogenetic tree shows the relationships of whales and other mammals, with whale groups marked in green. Cetaceans are divided into two parvorders. The larger parvorder, Mysticeti (baleen whales), is characterized by the presence of baleen, a sieve-like structure in the upper jaw made of keratin, which it uses to filter plankton, among others, from the water. Odontocetes (toothed whales) are characterized by bearing sharp teeth for hunting, as opposed to their counterparts' baleen. Cetaceans and artiodactyls now are classified under the order Cetartiodactyla, often still referred to as Artiodactyla, which includes both whales and hippopotamuses. The hippopotamus and pygmy hippopotamus are the whale's closest terrestrial living relatives.</td>\n",
       "      <td>0.663068</td>\n",
       "    </tr>\n",
       "    <tr>\n",
       "      <th>2</th>\n",
       "      <td>Dolphin</td>\n",
       "      <td>A dolphin is an aquatic mammal within the infraorder Cetacea. Dolphin species belong to the families Delphinidae (the oceanic dolphins), Platanistidae (the Indian river dolphins), Iniidae (the New World river dolphins), Pontoporiidae (the brackish dolphins), and the extinct Lipotidae (baiji or Chinese river dolphin). There are 40 extant species named as dolphins. Dolphins range in size from the and Maui's dolphin to the and orca. Various species of dolphins exhibit sexual dimorphism where the males are larger than females. They have streamlined bodies and two limbs that are modified into flippers. Though not quite as flexible as seals, some dolphins can briefly travel at speeds of per hour or leap about . Dolphins use their conical teeth to capture fast-moving prey. They have well-developed hearing which is adapted for both air and water. It is so well developed that some can survive even if they are blind. Some species are well adapted for diving to great depths. They have a layer of fat, or blubber, under the skin to keep warm in the cold water. Dolphins are widespread. Most species prefer the warm waters of the tropic zones, but some, such as the right whale dolphin, prefer colder climates. Dolphins feed largely on fish and squid, but a few, such as the orca, feed on large mammals such as seals. Male dolphins typically mate with multiple females every year, but females only mate every two to three years. Calves are typically born in the spring and summer months and females bear all the responsibility for raising them. Mothers of some species fast and nurse their young for a relatively long period of time. Dolphins produce a variety of vocalizations, usually in the form of clicks and whistles. Dolphins are sometimes hunted in places such as Japan, in an activity known as dolphin drive hunting. Besides drive hunting, they also face threats from bycatch, habitat loss, and marine pollution. Dolphins have been depicted in various cultures worldwide. Dolphins are sometimes kept in captivity and trained to perform tricks. The most common dolphin species in captivity is the bottlenose dolphin, while there are around 60 orcas in captivity.</td>\n",
       "      <td>0.662444</td>\n",
       "    </tr>\n",
       "  </tbody>\n",
       "</table>\n",
       "</div>"
      ],
      "text/plain": [
       "     title  ...     score\n",
       "0    Whale  ...  0.679408\n",
       "1    Whale  ...  0.663068\n",
       "2  Dolphin  ...  0.662444\n",
       "\n",
       "[3 rows x 3 columns]"
      ]
     },
     "metadata": {},
     "output_type": "display_data"
    }
   ],
   "source": [
    "query_vo = \"\"\"List five differences between dolphins and whales\"\"\"\n",
    "ans, df_source = se.generate_answer(query_vo)\n",
    "print(ans)\n",
    "display(df_source)"
   ]
  },
  {
   "cell_type": "code",
   "execution_count": 113,
   "metadata": {},
   "outputs": [],
   "source": [
    "df_source.to_parquet(\"application/tmp/df_top_paragraphs.parquet\")"
   ]
  },
  {
   "cell_type": "code",
   "execution_count": 114,
   "metadata": {},
   "outputs": [],
   "source": [
    "import json\n",
    "TMP_ANSWER_PATH = \"application/tmp/curr_answer.json\""
   ]
  },
  {
   "cell_type": "code",
   "execution_count": 115,
   "metadata": {},
   "outputs": [],
   "source": [
    "anno_gen_text = \"\"\"1. Dolphins belong to the infraorder Cetacea, while whales do not[1].\n",
    "2. Dolphins are smaller in size than whales.\n",
    "3. Dolphins have conical teeth adapted to catching fish or squid, while whales have plates of baleen[0].\n",
    "4. Dolphins have a more developed sense of hearing than whales[2].\n",
    "5. Dolphins are more agile and flexible than whales..\"\"\"\n",
    "df_top_paragraphs = pd.read_parquet(\n",
    "    \"application/tmp/df_top_paragraphs.parquet\")\n",
    "\n",
    "curr_answer = {\n",
    "    \"answer\": anno_gen_text,\n",
    "    \"source\": {}\n",
    "    }\n",
    "for idx in df_top_paragraphs.index:\n",
    "    source_i = {\n",
    "        \"idx\": idx,\n",
    "        \"title\": str(df_top_paragraphs.loc[idx, \"title\"]),\n",
    "        \"paragraph\": str(df_top_paragraphs.loc[idx, \"paragraph\"])}\n",
    "    curr_answer[idx] = source_i\n",
    "\n"
   ]
  },
  {
   "cell_type": "code",
   "execution_count": 116,
   "metadata": {},
   "outputs": [],
   "source": [
    "with open(TMP_ANSWER_PATH, \"w\") as outfile:\n",
    "    json.dump(curr_answer, outfile) "
   ]
  },
  {
   "cell_type": "code",
   "execution_count": null,
   "metadata": {},
   "outputs": [],
   "source": []
  }
 ],
 "metadata": {
  "kernelspec": {
   "display_name": "trans",
   "language": "python",
   "name": "python3"
  },
  "language_info": {
   "codemirror_mode": {
    "name": "ipython",
    "version": 3
   },
   "file_extension": ".py",
   "mimetype": "text/x-python",
   "name": "python",
   "nbconvert_exporter": "python",
   "pygments_lexer": "ipython3",
   "version": "3.9.15"
  },
  "orig_nbformat": 4,
  "vscode": {
   "interpreter": {
    "hash": "df59403bccc6b2d68848cdae14c7cd0ab0c51eb2d999ce9849aadca66dea64f1"
   }
  }
 },
 "nbformat": 4,
 "nbformat_minor": 2
}

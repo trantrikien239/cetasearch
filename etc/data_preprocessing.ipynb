{
 "cells": [
  {
   "cell_type": "code",
   "execution_count": 1,
   "metadata": {},
   "outputs": [],
   "source": [
    "import pandas as pd\n",
    "import numpy as np\n",
    "import sys"
   ]
  },
  {
   "cell_type": "code",
   "execution_count": 13,
   "metadata": {},
   "outputs": [],
   "source": [
    "from sentence_transformers import SentenceTransformer"
   ]
  },
  {
   "attachments": {},
   "cell_type": "markdown",
   "metadata": {},
   "source": [
    "# 1. Preprocess wiki text data"
   ]
  },
  {
   "cell_type": "code",
   "execution_count": 2,
   "metadata": {},
   "outputs": [],
   "source": [
    "with open(\"data/wiki/parsed.xml\") as f:\n",
    "    all_data = f.readlines()"
   ]
  },
  {
   "cell_type": "code",
   "execution_count": 3,
   "metadata": {},
   "outputs": [
    {
     "data": {
      "text/plain": [
       "1026423"
      ]
     },
     "execution_count": 3,
     "metadata": {},
     "output_type": "execute_result"
    }
   ],
   "source": [
    "len(all_data)"
   ]
  },
  {
   "cell_type": "code",
   "execution_count": 4,
   "metadata": {},
   "outputs": [],
   "source": [
    "data_dict = dict()\n",
    "curr_title = \"\"\n",
    "search_title = True\n",
    "for line in all_data:\n",
    "    if line.strip() == \"==========\":\n",
    "        search_title = True\n",
    "    elif search_title and line!=\"\\n\" and \"<title>\" in line[:150]:\n",
    "        line_ = line.replace(\"</title>\", \"<title>\")\n",
    "        curr_title = line_.split(\"<title>\")[1]\n",
    "        line = line.split(\"</title><text>\")[1].strip()\n",
    "        data_dict[curr_title] = [line]\n",
    "        search_title = False\n",
    "    elif line.strip() != \"\":\n",
    "        data_dict[curr_title].append(line.strip())"
   ]
  },
  {
   "cell_type": "code",
   "execution_count": 5,
   "metadata": {},
   "outputs": [
    {
     "data": {
      "text/plain": [
       "21217"
      ]
     },
     "execution_count": 5,
     "metadata": {},
     "output_type": "execute_result"
    }
   ],
   "source": [
    "article_names = list(data_dict.keys())\n",
    "len(article_names)"
   ]
  },
  {
   "cell_type": "code",
   "execution_count": 6,
   "metadata": {},
   "outputs": [],
   "source": [
    "for title, contents in data_dict.items():\n",
    "    headers = title\n",
    "    temp_line = \"\"\n",
    "    new_contents = []\n",
    "    for line in contents:\n",
    "        # print(line)\n",
    "        # continue\n",
    "        if len(line) < 50:\n",
    "            temp_line += line + \". \"\n",
    "            headers += \", \" + line\n",
    "        elif len(line) >= 50 and temp_line != \"\":\n",
    "            line = temp_line + line\n",
    "            temp_line = \"\"\n",
    "            new_contents.append(line)\n",
    "        else:\n",
    "            new_contents.append(line)\n",
    "    data_dict[title] = {\n",
    "        \"header\": headers,\n",
    "        \"contents\": new_contents\n",
    "        }\n",
    "    "
   ]
  },
  {
   "cell_type": "code",
   "execution_count": 7,
   "metadata": {},
   "outputs": [
    {
     "data": {
      "text/html": [
       "<div>\n",
       "<style scoped>\n",
       "    .dataframe tbody tr th:only-of-type {\n",
       "        vertical-align: middle;\n",
       "    }\n",
       "\n",
       "    .dataframe tbody tr th {\n",
       "        vertical-align: top;\n",
       "    }\n",
       "\n",
       "    .dataframe thead th {\n",
       "        text-align: right;\n",
       "    }\n",
       "</style>\n",
       "<table border=\"1\" class=\"dataframe\">\n",
       "  <thead>\n",
       "    <tr style=\"text-align: right;\">\n",
       "      <th></th>\n",
       "      <th>title</th>\n",
       "      <th>header</th>\n",
       "    </tr>\n",
       "  </thead>\n",
       "  <tbody>\n",
       "    <tr>\n",
       "      <th>0</th>\n",
       "      <td>Anarchism</td>\n",
       "      <td>Anarchism, Etymology, terminology, and definit...</td>\n",
       "    </tr>\n",
       "    <tr>\n",
       "      <th>1</th>\n",
       "      <td>Albedo</td>\n",
       "      <td>Albedo, Terrestrial albedo, White-sky, black-s...</td>\n",
       "    </tr>\n",
       "    <tr>\n",
       "      <th>2</th>\n",
       "      <td>A</td>\n",
       "      <td>A, History, Typographic variants, Use in writi...</td>\n",
       "    </tr>\n",
       "    <tr>\n",
       "      <th>3</th>\n",
       "      <td>Alabama</td>\n",
       "      <td>Alabama, Etymology, History, Pre-European sett...</td>\n",
       "    </tr>\n",
       "    <tr>\n",
       "      <th>4</th>\n",
       "      <td>Achilles</td>\n",
       "      <td>Achilles, Etymology, Description, Birth and ea...</td>\n",
       "    </tr>\n",
       "  </tbody>\n",
       "</table>\n",
       "</div>"
      ],
      "text/plain": [
       "       title                                             header\n",
       "0  Anarchism  Anarchism, Etymology, terminology, and definit...\n",
       "1     Albedo  Albedo, Terrestrial albedo, White-sky, black-s...\n",
       "2          A  A, History, Typographic variants, Use in writi...\n",
       "3    Alabama  Alabama, Etymology, History, Pre-European sett...\n",
       "4   Achilles  Achilles, Etymology, Description, Birth and ea..."
      ]
     },
     "execution_count": 7,
     "metadata": {},
     "output_type": "execute_result"
    }
   ],
   "source": [
    "df_wiki = pd.DataFrame({\"title\":list(data_dict.keys())})\n",
    "df_wiki[\"header\"] = df_wiki[\"title\"].apply(lambda x: data_dict.get(x).get(\"header\"))\n",
    "df_wiki.head()"
   ]
  },
  {
   "cell_type": "code",
   "execution_count": 8,
   "metadata": {},
   "outputs": [],
   "source": [
    "df_wiki[\"contents\"] = df_wiki[\"title\"].apply(lambda x: data_dict.get(x).get(\"contents\"))"
   ]
  },
  {
   "cell_type": "code",
   "execution_count": 9,
   "metadata": {},
   "outputs": [
    {
     "data": {
      "text/html": [
       "<div>\n",
       "<style scoped>\n",
       "    .dataframe tbody tr th:only-of-type {\n",
       "        vertical-align: middle;\n",
       "    }\n",
       "\n",
       "    .dataframe tbody tr th {\n",
       "        vertical-align: top;\n",
       "    }\n",
       "\n",
       "    .dataframe thead th {\n",
       "        text-align: right;\n",
       "    }\n",
       "</style>\n",
       "<table border=\"1\" class=\"dataframe\">\n",
       "  <thead>\n",
       "    <tr style=\"text-align: right;\">\n",
       "      <th></th>\n",
       "      <th>title</th>\n",
       "      <th>header</th>\n",
       "      <th>contents</th>\n",
       "    </tr>\n",
       "  </thead>\n",
       "  <tbody>\n",
       "    <tr>\n",
       "      <th>0</th>\n",
       "      <td>Anarchism</td>\n",
       "      <td>Anarchism, Etymology, terminology, and definit...</td>\n",
       "      <td>[Anarchism is a political philosophy and movem...</td>\n",
       "    </tr>\n",
       "    <tr>\n",
       "      <th>1</th>\n",
       "      <td>Albedo</td>\n",
       "      <td>Albedo, Terrestrial albedo, White-sky, black-s...</td>\n",
       "      <td>[Albedo (; ) is the measure of the diffuse ref...</td>\n",
       "    </tr>\n",
       "    <tr>\n",
       "      <th>2</th>\n",
       "      <td>A</td>\n",
       "      <td>A, History, Typographic variants, Use in writi...</td>\n",
       "      <td>[A, or a, is the first letter and the first vo...</td>\n",
       "    </tr>\n",
       "    <tr>\n",
       "      <th>3</th>\n",
       "      <td>Alabama</td>\n",
       "      <td>Alabama, Etymology, History, Pre-European sett...</td>\n",
       "      <td>[Alabama  is a state in the Southeastern regio...</td>\n",
       "    </tr>\n",
       "    <tr>\n",
       "      <th>4</th>\n",
       "      <td>Achilles</td>\n",
       "      <td>Achilles, Etymology, Description, Birth and ea...</td>\n",
       "      <td>[In Greek mythology, Achilles ( ) or Achilleus...</td>\n",
       "    </tr>\n",
       "  </tbody>\n",
       "</table>\n",
       "</div>"
      ],
      "text/plain": [
       "       title                                             header  \\\n",
       "0  Anarchism  Anarchism, Etymology, terminology, and definit...   \n",
       "1     Albedo  Albedo, Terrestrial albedo, White-sky, black-s...   \n",
       "2          A  A, History, Typographic variants, Use in writi...   \n",
       "3    Alabama  Alabama, Etymology, History, Pre-European sett...   \n",
       "4   Achilles  Achilles, Etymology, Description, Birth and ea...   \n",
       "\n",
       "                                            contents  \n",
       "0  [Anarchism is a political philosophy and movem...  \n",
       "1  [Albedo (; ) is the measure of the diffuse ref...  \n",
       "2  [A, or a, is the first letter and the first vo...  \n",
       "3  [Alabama  is a state in the Southeastern regio...  \n",
       "4  [In Greek mythology, Achilles ( ) or Achilleus...  "
      ]
     },
     "execution_count": 9,
     "metadata": {},
     "output_type": "execute_result"
    }
   ],
   "source": [
    "df_wiki.head()"
   ]
  },
  {
   "cell_type": "code",
   "execution_count": 10,
   "metadata": {},
   "outputs": [],
   "source": [
    "df_para_ = []\n",
    "for title, vals in data_dict.items():\n",
    "    for line in vals[\"contents\"]:\n",
    "        df_para_.append([title, line])\n",
    "df_wiki_paragraph = pd.DataFrame(df_para_, columns=[\"title\", 'paragraph'])"
   ]
  },
  {
   "cell_type": "code",
   "execution_count": 11,
   "metadata": {},
   "outputs": [
    {
     "data": {
      "text/html": [
       "<div>\n",
       "<style scoped>\n",
       "    .dataframe tbody tr th:only-of-type {\n",
       "        vertical-align: middle;\n",
       "    }\n",
       "\n",
       "    .dataframe tbody tr th {\n",
       "        vertical-align: top;\n",
       "    }\n",
       "\n",
       "    .dataframe thead th {\n",
       "        text-align: right;\n",
       "    }\n",
       "</style>\n",
       "<table border=\"1\" class=\"dataframe\">\n",
       "  <thead>\n",
       "    <tr style=\"text-align: right;\">\n",
       "      <th></th>\n",
       "      <th>title</th>\n",
       "      <th>paragraph</th>\n",
       "    </tr>\n",
       "  </thead>\n",
       "  <tbody>\n",
       "    <tr>\n",
       "      <th>0</th>\n",
       "      <td>Anarchism</td>\n",
       "      <td>Anarchism is a political philosophy and moveme...</td>\n",
       "    </tr>\n",
       "    <tr>\n",
       "      <th>1</th>\n",
       "      <td>Anarchism</td>\n",
       "      <td>Etymology, terminology, and definition. Main a...</td>\n",
       "    </tr>\n",
       "    <tr>\n",
       "      <th>2</th>\n",
       "      <td>Anarchism</td>\n",
       "      <td>History. Main article: History of anarchism. P...</td>\n",
       "    </tr>\n",
       "    <tr>\n",
       "      <th>3</th>\n",
       "      <td>Anarchism</td>\n",
       "      <td>Modern era. During the French Revolution, part...</td>\n",
       "    </tr>\n",
       "    <tr>\n",
       "      <th>4</th>\n",
       "      <td>Anarchism</td>\n",
       "      <td>Post-war era. By the end of World War II, the ...</td>\n",
       "    </tr>\n",
       "    <tr>\n",
       "      <th>...</th>\n",
       "      <td>...</td>\n",
       "      <td>...</td>\n",
       "    </tr>\n",
       "    <tr>\n",
       "      <th>340699</th>\n",
       "      <td>Horn</td>\n",
       "      <td>Places. Cape Horn, the southernmost point of S...</td>\n",
       "    </tr>\n",
       "    <tr>\n",
       "      <th>340700</th>\n",
       "      <td>Horn</td>\n",
       "      <td>Music. Horn (album), an album by Pharaoh Overl...</td>\n",
       "    </tr>\n",
       "    <tr>\n",
       "      <th>340701</th>\n",
       "      <td>Horn</td>\n",
       "      <td>Slang. Telephone, also known as \"the horn\" Two...</td>\n",
       "    </tr>\n",
       "    <tr>\n",
       "      <th>340702</th>\n",
       "      <td>Horn</td>\n",
       "      <td>Other uses. Horn (Chinese constellation), part...</td>\n",
       "    </tr>\n",
       "    <tr>\n",
       "      <th>340703</th>\n",
       "      <td>Horn</td>\n",
       "      <td>See also. Horned God Horns (disambiguation) Ho...</td>\n",
       "    </tr>\n",
       "  </tbody>\n",
       "</table>\n",
       "<p>340704 rows × 2 columns</p>\n",
       "</div>"
      ],
      "text/plain": [
       "            title                                          paragraph\n",
       "0       Anarchism  Anarchism is a political philosophy and moveme...\n",
       "1       Anarchism  Etymology, terminology, and definition. Main a...\n",
       "2       Anarchism  History. Main article: History of anarchism. P...\n",
       "3       Anarchism  Modern era. During the French Revolution, part...\n",
       "4       Anarchism  Post-war era. By the end of World War II, the ...\n",
       "...           ...                                                ...\n",
       "340699       Horn  Places. Cape Horn, the southernmost point of S...\n",
       "340700       Horn  Music. Horn (album), an album by Pharaoh Overl...\n",
       "340701       Horn  Slang. Telephone, also known as \"the horn\" Two...\n",
       "340702       Horn  Other uses. Horn (Chinese constellation), part...\n",
       "340703       Horn  See also. Horned God Horns (disambiguation) Ho...\n",
       "\n",
       "[340704 rows x 2 columns]"
      ]
     },
     "execution_count": 11,
     "metadata": {},
     "output_type": "execute_result"
    }
   ],
   "source": [
    "df_wiki_paragraph"
   ]
  },
  {
   "attachments": {},
   "cell_type": "markdown",
   "metadata": {},
   "source": [
    "# 2. Sentence Transformer"
   ]
  },
  {
   "cell_type": "code",
   "execution_count": 40,
   "metadata": {},
   "outputs": [
    {
     "data": {
      "text/plain": [
       "16224.0"
      ]
     },
     "execution_count": 40,
     "metadata": {},
     "output_type": "execute_result"
    }
   ],
   "source": [
    "340704 / 21000 * 1000"
   ]
  },
  {
   "cell_type": "code",
   "execution_count": 14,
   "metadata": {},
   "outputs": [],
   "source": [
    "smodel = SentenceTransformer('multi-qa-distilbert-cos-v1')"
   ]
  },
  {
   "cell_type": "code",
   "execution_count": 15,
   "metadata": {},
   "outputs": [],
   "source": [
    "title_enc = smodel.encode(df_wiki[\"title\"].values)"
   ]
  },
  {
   "cell_type": "code",
   "execution_count": 48,
   "metadata": {},
   "outputs": [],
   "source": [
    "query = \"\"\"Ocean ecosystem and aquatic animals, includes whales, dolphins, and porpoises that have fully aquatic lifestyle\"\"\"\n",
    "k = 250"
   ]
  },
  {
   "cell_type": "code",
   "execution_count": 49,
   "metadata": {},
   "outputs": [
    {
     "data": {
      "text/html": [
       "<div>\n",
       "<style scoped>\n",
       "    .dataframe tbody tr th:only-of-type {\n",
       "        vertical-align: middle;\n",
       "    }\n",
       "\n",
       "    .dataframe tbody tr th {\n",
       "        vertical-align: top;\n",
       "    }\n",
       "\n",
       "    .dataframe thead th {\n",
       "        text-align: right;\n",
       "    }\n",
       "</style>\n",
       "<table border=\"1\" class=\"dataframe\">\n",
       "  <thead>\n",
       "    <tr style=\"text-align: right;\">\n",
       "      <th></th>\n",
       "      <th>title</th>\n",
       "      <th>header</th>\n",
       "      <th>contents</th>\n",
       "      <th>score</th>\n",
       "    </tr>\n",
       "  </thead>\n",
       "  <tbody>\n",
       "    <tr>\n",
       "      <th>9838</th>\n",
       "      <td>Marine biology</td>\n",
       "      <td>Marine biology, Biological oceanography, Marin...</td>\n",
       "      <td>[Marine biology is the scientific study of the...</td>\n",
       "      <td>0.544665</td>\n",
       "    </tr>\n",
       "    <tr>\n",
       "      <th>10350</th>\n",
       "      <td>List of marine aquarium fish species</td>\n",
       "      <td>List of marine aquarium fish species, Angelfis...</td>\n",
       "      <td>[The following list of marine aquarium fish sp...</td>\n",
       "      <td>0.512990</td>\n",
       "    </tr>\n",
       "    <tr>\n",
       "      <th>5649</th>\n",
       "      <td>List of freshwater aquarium invertebrate species</td>\n",
       "      <td>List of freshwater aquarium invertebrate speci...</td>\n",
       "      <td>[This is a list of invertebrates, animals with...</td>\n",
       "      <td>0.476913</td>\n",
       "    </tr>\n",
       "    <tr>\n",
       "      <th>4262</th>\n",
       "      <td>Dolphin</td>\n",
       "      <td>Dolphin, Etymology, Hybridization, Evolution, ...</td>\n",
       "      <td>[A dolphin is an aquatic mammal within the inf...</td>\n",
       "      <td>0.469884</td>\n",
       "    </tr>\n",
       "    <tr>\n",
       "      <th>16643</th>\n",
       "      <td>Whale</td>\n",
       "      <td>Whale, Etymology and definitions, Taxonomy and...</td>\n",
       "      <td>[Whales are a widely distributed and diverse g...</td>\n",
       "      <td>0.469153</td>\n",
       "    </tr>\n",
       "    <tr>\n",
       "      <th>...</th>\n",
       "      <td>...</td>\n",
       "      <td>...</td>\n",
       "      <td>...</td>\n",
       "      <td>...</td>\n",
       "    </tr>\n",
       "    <tr>\n",
       "      <th>10301</th>\n",
       "      <td>Strategic sealift ships</td>\n",
       "      <td>Strategic sealift ships, Ships, Sergeant Matej...</td>\n",
       "      <td>[Strategic sealift ships are part of the Unite...</td>\n",
       "      <td>0.176647</td>\n",
       "    </tr>\n",
       "    <tr>\n",
       "      <th>13454</th>\n",
       "      <td>Sahara desert (ecoregion)</td>\n",
       "      <td>Sahara desert (ecoregion), Setting, Climate, H...</td>\n",
       "      <td>[The Sahara desert, as defined by the World Wi...</td>\n",
       "      <td>0.176530</td>\n",
       "    </tr>\n",
       "    <tr>\n",
       "      <th>4337</th>\n",
       "      <td>Elephant</td>\n",
       "      <td>Elephant, Etymology, Taxonomy, Evolution and e...</td>\n",
       "      <td>[Elephants are the largest existing land anima...</td>\n",
       "      <td>0.176375</td>\n",
       "    </tr>\n",
       "    <tr>\n",
       "      <th>9017</th>\n",
       "      <td>Life</td>\n",
       "      <td>Life, Definitions, Biology, Alternative defini...</td>\n",
       "      <td>[Life is a quality that distinguishes matter t...</td>\n",
       "      <td>0.176247</td>\n",
       "    </tr>\n",
       "    <tr>\n",
       "      <th>16250</th>\n",
       "      <td>Veganism</td>\n",
       "      <td>Veganism, Origins, Vegetarian etymology, Histo...</td>\n",
       "      <td>[Veganism is the practice of abstaining from t...</td>\n",
       "      <td>0.176192</td>\n",
       "    </tr>\n",
       "  </tbody>\n",
       "</table>\n",
       "<p>250 rows × 4 columns</p>\n",
       "</div>"
      ],
      "text/plain": [
       "                                                  title  \\\n",
       "9838                                     Marine biology   \n",
       "10350              List of marine aquarium fish species   \n",
       "5649   List of freshwater aquarium invertebrate species   \n",
       "4262                                            Dolphin   \n",
       "16643                                             Whale   \n",
       "...                                                 ...   \n",
       "10301                           Strategic sealift ships   \n",
       "13454                         Sahara desert (ecoregion)   \n",
       "4337                                           Elephant   \n",
       "9017                                               Life   \n",
       "16250                                          Veganism   \n",
       "\n",
       "                                                  header  \\\n",
       "9838   Marine biology, Biological oceanography, Marin...   \n",
       "10350  List of marine aquarium fish species, Angelfis...   \n",
       "5649   List of freshwater aquarium invertebrate speci...   \n",
       "4262   Dolphin, Etymology, Hybridization, Evolution, ...   \n",
       "16643  Whale, Etymology and definitions, Taxonomy and...   \n",
       "...                                                  ...   \n",
       "10301  Strategic sealift ships, Ships, Sergeant Matej...   \n",
       "13454  Sahara desert (ecoregion), Setting, Climate, H...   \n",
       "4337   Elephant, Etymology, Taxonomy, Evolution and e...   \n",
       "9017   Life, Definitions, Biology, Alternative defini...   \n",
       "16250  Veganism, Origins, Vegetarian etymology, Histo...   \n",
       "\n",
       "                                                contents     score  \n",
       "9838   [Marine biology is the scientific study of the...  0.544665  \n",
       "10350  [The following list of marine aquarium fish sp...  0.512990  \n",
       "5649   [This is a list of invertebrates, animals with...  0.476913  \n",
       "4262   [A dolphin is an aquatic mammal within the inf...  0.469884  \n",
       "16643  [Whales are a widely distributed and diverse g...  0.469153  \n",
       "...                                                  ...       ...  \n",
       "10301  [Strategic sealift ships are part of the Unite...  0.176647  \n",
       "13454  [The Sahara desert, as defined by the World Wi...  0.176530  \n",
       "4337   [Elephants are the largest existing land anima...  0.176375  \n",
       "9017   [Life is a quality that distinguishes matter t...  0.176247  \n",
       "16250  [Veganism is the practice of abstaining from t...  0.176192  \n",
       "\n",
       "[250 rows x 4 columns]"
      ]
     },
     "execution_count": 49,
     "metadata": {},
     "output_type": "execute_result"
    }
   ],
   "source": [
    "query_emb = smodel.encode(query)\n",
    "scores = title_enc @ query_emb\n",
    "arg_sort = np.argsort(scores)[::-1]\n",
    "top_idx = arg_sort[:k]\n",
    "top_score = scores[arg_sort][:k]\n",
    "tb_desc_tmp = df_wiki.loc[top_idx,:].copy()\n",
    "tb_desc_tmp[\"score\"] = top_score\n",
    "tb_desc_tmp"
   ]
  },
  {
   "cell_type": "code",
   "execution_count": 53,
   "metadata": {},
   "outputs": [],
   "source": [
    "tb_desc_tmp.to_parquet(\"data/ocean_processed/titles.parquet\")"
   ]
  },
  {
   "cell_type": "code",
   "execution_count": 56,
   "metadata": {},
   "outputs": [
    {
     "data": {
      "text/html": [
       "<div>\n",
       "<style scoped>\n",
       "    .dataframe tbody tr th:only-of-type {\n",
       "        vertical-align: middle;\n",
       "    }\n",
       "\n",
       "    .dataframe tbody tr th {\n",
       "        vertical-align: top;\n",
       "    }\n",
       "\n",
       "    .dataframe thead th {\n",
       "        text-align: right;\n",
       "    }\n",
       "</style>\n",
       "<table border=\"1\" class=\"dataframe\">\n",
       "  <thead>\n",
       "    <tr style=\"text-align: right;\">\n",
       "      <th></th>\n",
       "      <th>title</th>\n",
       "      <th>paragraph</th>\n",
       "    </tr>\n",
       "  </thead>\n",
       "  <tbody>\n",
       "    <tr>\n",
       "      <th>285</th>\n",
       "      <td>Animalia (book)</td>\n",
       "      <td>Animalia is an illustrated children's book by ...</td>\n",
       "    </tr>\n",
       "    <tr>\n",
       "      <th>286</th>\n",
       "      <td>Animalia (book)</td>\n",
       "      <td>Synopsis. Animalia is an alliterative alphabet...</td>\n",
       "    </tr>\n",
       "    <tr>\n",
       "      <th>287</th>\n",
       "      <td>Animalia (book)</td>\n",
       "      <td>Related products. Julia MacRae Books published...</td>\n",
       "    </tr>\n",
       "    <tr>\n",
       "      <th>288</th>\n",
       "      <td>Animalia (book)</td>\n",
       "      <td>Adaptations. A television series was also crea...</td>\n",
       "    </tr>\n",
       "    <tr>\n",
       "      <th>289</th>\n",
       "      <td>Animalia (book)</td>\n",
       "      <td>Awards. Animalia won the Young Australian's Be...</td>\n",
       "    </tr>\n",
       "    <tr>\n",
       "      <th>...</th>\n",
       "      <td>...</td>\n",
       "      <td>...</td>\n",
       "    </tr>\n",
       "    <tr>\n",
       "      <th>337970</th>\n",
       "      <td>Gill</td>\n",
       "      <td>Amphibians. Tadpoles of amphibians have from t...</td>\n",
       "    </tr>\n",
       "    <tr>\n",
       "      <th>337971</th>\n",
       "      <td>Gill</td>\n",
       "      <td>Invertebrates. Crustaceans, molluscs, and some...</td>\n",
       "    </tr>\n",
       "    <tr>\n",
       "      <th>337972</th>\n",
       "      <td>Gill</td>\n",
       "      <td>Plastrons. A plastron is a type of structural ...</td>\n",
       "    </tr>\n",
       "    <tr>\n",
       "      <th>337973</th>\n",
       "      <td>Gill</td>\n",
       "      <td>See also. Aquatic respiration Artificial gills...</td>\n",
       "    </tr>\n",
       "    <tr>\n",
       "      <th>337974</th>\n",
       "      <td>Gill</td>\n",
       "      <td>References. External links. Fish Dissection - ...</td>\n",
       "    </tr>\n",
       "  </tbody>\n",
       "</table>\n",
       "<p>4710 rows × 2 columns</p>\n",
       "</div>"
      ],
      "text/plain": [
       "                  title                                          paragraph\n",
       "285     Animalia (book)  Animalia is an illustrated children's book by ...\n",
       "286     Animalia (book)  Synopsis. Animalia is an alliterative alphabet...\n",
       "287     Animalia (book)  Related products. Julia MacRae Books published...\n",
       "288     Animalia (book)  Adaptations. A television series was also crea...\n",
       "289     Animalia (book)  Awards. Animalia won the Young Australian's Be...\n",
       "...                 ...                                                ...\n",
       "337970             Gill  Amphibians. Tadpoles of amphibians have from t...\n",
       "337971             Gill  Invertebrates. Crustaceans, molluscs, and some...\n",
       "337972             Gill  Plastrons. A plastron is a type of structural ...\n",
       "337973             Gill  See also. Aquatic respiration Artificial gills...\n",
       "337974             Gill  References. External links. Fish Dissection - ...\n",
       "\n",
       "[4710 rows x 2 columns]"
      ]
     },
     "execution_count": 56,
     "metadata": {},
     "output_type": "execute_result"
    }
   ],
   "source": [
    "ocean_paragraphs = df_wiki_paragraph[df_wiki_paragraph[\"title\"].isin(tb_desc_tmp[\"title\"])]\n",
    "ocean_paragraphs"
   ]
  },
  {
   "cell_type": "code",
   "execution_count": 57,
   "metadata": {},
   "outputs": [],
   "source": [
    "ocean_paragraphs.to_parquet(\"data/ocean_processed/paragraphs.parquet\")"
   ]
  },
  {
   "cell_type": "code",
   "execution_count": 58,
   "metadata": {},
   "outputs": [],
   "source": [
    "ocean_titles = tb_desc_tmp"
   ]
  },
  {
   "attachments": {},
   "cell_type": "markdown",
   "metadata": {},
   "source": [
    "# Focus on ocean ecosystem and Cetacean animals"
   ]
  },
  {
   "cell_type": "code",
   "execution_count": 61,
   "metadata": {},
   "outputs": [],
   "source": [
    "from semantic_search_engine import SemanticSearchEngine"
   ]
  },
  {
   "cell_type": "code",
   "execution_count": null,
   "metadata": {},
   "outputs": [],
   "source": []
  },
  {
   "cell_type": "code",
   "execution_count": null,
   "metadata": {},
   "outputs": [],
   "source": []
  }
 ],
 "metadata": {
  "kernelspec": {
   "display_name": "trans",
   "language": "python",
   "name": "python3"
  },
  "language_info": {
   "codemirror_mode": {
    "name": "ipython",
    "version": 3
   },
   "file_extension": ".py",
   "mimetype": "text/x-python",
   "name": "python",
   "nbconvert_exporter": "python",
   "pygments_lexer": "ipython3",
   "version": "3.9.15"
  },
  "orig_nbformat": 4,
  "vscode": {
   "interpreter": {
    "hash": "df59403bccc6b2d68848cdae14c7cd0ab0c51eb2d999ce9849aadca66dea64f1"
   }
  }
 },
 "nbformat": 4,
 "nbformat_minor": 2
}
